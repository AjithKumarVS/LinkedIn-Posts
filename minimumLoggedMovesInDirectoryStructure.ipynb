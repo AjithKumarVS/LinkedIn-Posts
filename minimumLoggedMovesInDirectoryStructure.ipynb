{
 "cells": [
  {
   "cell_type": "code",
   "execution_count": null,
   "metadata": {},
   "outputs": [],
   "source": []
  },
  {
   "cell_type": "code",
   "execution_count": 44,
   "metadata": {},
   "outputs": [
    {
     "name": "stdout",
     "output_type": "stream",
     "text": [
      "2\n"
     ]
    }
   ],
   "source": [
    "import re\n",
    "loggedMoves=[\"x/\",\"y/\",\"../\",\"z/\",\"./\"]\n",
    "counter=0\n",
    "for val in loggedMoves:\n",
    "    #print(val)\n",
    "    try:\n",
    "        if(re.match(r\"[^ .]\\/\",val)[0]):\n",
    "            counter=counter+1\n",
    "    except:\n",
    "        pass\n",
    "    if(val==\"../\"):\n",
    "        counter=counter-1\n",
    "        \n",
    "    if(counter<0):\n",
    "        counter=0\n",
    "print(counter)"
   ]
  },
  {
   "cell_type": "code",
   "execution_count": null,
   "metadata": {},
   "outputs": [],
   "source": []
  },
  {
   "cell_type": "code",
   "execution_count": null,
   "metadata": {},
   "outputs": [],
   "source": []
  }
 ],
 "metadata": {
  "kernelspec": {
   "display_name": "Python 3",
   "language": "python",
   "name": "python3"
  },
  "language_info": {
   "codemirror_mode": {
    "name": "ipython",
    "version": 3
   },
   "file_extension": ".py",
   "mimetype": "text/x-python",
   "name": "python",
   "nbconvert_exporter": "python",
   "pygments_lexer": "ipython3",
   "version": "3.7.4"
  }
 },
 "nbformat": 4,
 "nbformat_minor": 2
}
