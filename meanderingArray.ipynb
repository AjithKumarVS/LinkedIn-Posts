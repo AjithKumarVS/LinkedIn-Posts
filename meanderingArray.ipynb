{
 "cells": [
  {
   "cell_type": "code",
   "execution_count": 1,
   "metadata": {},
   "outputs": [
    {
     "data": {
      "text/plain": [
       "[-1, 1, 2, 3, -5]"
      ]
     },
     "execution_count": 1,
     "metadata": {},
     "output_type": "execute_result"
    }
   ],
   "source": [
    "numArray = [-1, 1, 2, 3, -5]\n",
    "numArray"
   ]
  },
  {
   "cell_type": "code",
   "execution_count": 4,
   "metadata": {},
   "outputs": [
    {
     "name": "stdout",
     "output_type": "stream",
     "text": [
      "[3, -5, 2, -1, 1]\n"
     ]
    }
   ],
   "source": [
    "#numArray = [-1, 1, 2, 3, -5]\n",
    "meanderingArray = []\n",
    "try:\n",
    "    while(len(numArray)>0):\n",
    "        temp=max(numArray)\n",
    "        meanderingArray.append(temp)\n",
    "        numArray.remove(temp)\n",
    "        temp=min(numArray)\n",
    "        meanderingArray.append(temp)\n",
    "        numArray.remove(temp)\n",
    "except:\n",
    "    pass\n",
    "print(meanderingArray)"
   ]
  },
  {
   "cell_type": "code",
   "execution_count": null,
   "metadata": {},
   "outputs": [],
   "source": []
  }
 ],
 "metadata": {
  "kernelspec": {
   "display_name": "Python 3",
   "language": "python",
   "name": "python3"
  },
  "language_info": {
   "codemirror_mode": {
    "name": "ipython",
    "version": 3
   },
   "file_extension": ".py",
   "mimetype": "text/x-python",
   "name": "python",
   "nbconvert_exporter": "python",
   "pygments_lexer": "ipython3",
   "version": "3.7.4"
  }
 },
 "nbformat": 4,
 "nbformat_minor": 2
}
